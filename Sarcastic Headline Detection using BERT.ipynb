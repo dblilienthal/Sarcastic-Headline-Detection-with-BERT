{
 "cells": [
  {
   "cell_type": "markdown",
   "metadata": {},
   "source": [
    "# Sarcastic Headline Detection w/ BERT"
   ]
  },
  {
   "cell_type": "markdown",
   "metadata": {},
   "source": [
    "### Problem"
   ]
  },
  {
   "cell_type": "markdown",
   "metadata": {},
   "source": [
    "In this noteook, I will be predicting if a news headline is sarcasm. This News Headlines dataset for Sarcasm Detection is collected from two news website.   \n",
    "**_The Onion_**, which aims at producing sarcastic versions of current events.   \n",
    "**_The Huffington Post_**, which is a real (non-sarcastic) news outlet.  "
   ]
  },
  {
   "cell_type": "markdown",
   "metadata": {},
   "source": [
    "### Context\n",
    "\n",
    "- `is_sarcastic`: 1 if the headline is sarcastic, otherwise 0\n",
    "- `headline`: The headline of the news article\n",
    "- `article_link`: The link to the original news article"
   ]
  },
  {
   "cell_type": "markdown",
   "metadata": {},
   "source": [
    "### Models\n",
    "\n",
    "This problem is a binary classification problem where I will be using two models. A baseline of **Naive Bayes** and a more advanced **Deep Neural Network (DNN)** design using **BERT** as a base layer with multiple convolutional and dense layers to predict the sarcastic headlines.\n",
    "\n",
    "For implementing **BERT**, I will be fine-tunning BERT by freezing it's trainable layers and only training the additional layers underneath.\n",
    "\n",
    "*Note: The results from the DNN were trained on two tesla V100 32GB GPU's*"
   ]
  },
  {
   "cell_type": "markdown",
   "metadata": {},
   "source": [
    "### Measure of success"
   ]
  },
  {
   "cell_type": "markdown",
   "metadata": {},
   "source": [
    "For this problem, I will define the measure of success by using *accuracy* because the dataset contains almost equal numbers of each predictors."
   ]
  },
  {
   "cell_type": "markdown",
   "metadata": {},
   "source": [
    "**Number of binary labels**  \n",
    "Not Sarcastic: 29,970  \n",
    "Sarcastic: 25,358"
   ]
  },
  {
   "cell_type": "markdown",
   "metadata": {},
   "source": [
    "Dataset Link: https://www.kaggle.com/rmisra/news-headlines-dataset-for-sarcasm-detection"
   ]
  },
  {
   "cell_type": "markdown",
   "metadata": {},
   "source": [
    "**Imports**"
   ]
  },
  {
   "cell_type": "code",
   "execution_count": 1,
   "metadata": {},
   "outputs": [],
   "source": [
    "import numpy as np\n",
    "import pandas as pd\n",
    "import matplotlib.pyplot as plt\n",
    "import string\n",
    "import os\n",
    "from datetime import datetime\n",
    "import tensorflow as tf\n",
    "import tensorflow_hub as hub\n",
    "from keras.utils import np_utils\n",
    "from tensorflow.keras.callbacks import ModelCheckpoint\n",
    "from sklearn.model_selection import train_test_split\n",
    "import official.nlp.bert.tokenization as tokenization\n",
    "from sklearn.metrics import classification_report, confusion_matrix\n",
    "from sklearn.feature_extraction.text import TfidfVectorizer\n",
    "from sklearn.naive_bayes import MultinomialNB\n",
    "from sklearn.pipeline import make_pipeline\n",
    "from sklearn.model_selection import train_test_split\n",
    "plt.style.use('ggplot')"
   ]
  },
  {
   "cell_type": "markdown",
   "metadata": {},
   "source": [
    "Enable GPU growth"
   ]
  },
  {
   "cell_type": "code",
   "execution_count": 2,
   "metadata": {},
   "outputs": [],
   "source": [
    "gpus = tf.config.experimental.list_physical_devices('GPU')\n",
    "if gpus:\n",
    "  try:\n",
    "    # Currently, memory growth needs to be the same across GPUs\n",
    "    for gpu in gpus:\n",
    "      tf.config.experimental.set_memory_growth(gpu, True)\n",
    "    logical_gpus = tf.config.experimental.list_logical_devices('GPU')\n",
    "    print(len(gpus), \"Physical GPUs,\", len(logical_gpus), \"Logical GPUs\")\n",
    "  except RuntimeError as e:\n",
    "    # Memory growth must be set before GPUs have been initialized\n",
    "    print(e)"
   ]
  },
  {
   "cell_type": "code",
   "execution_count": 3,
   "metadata": {},
   "outputs": [
    {
     "data": {
      "text/plain": [
       "True"
      ]
     },
     "execution_count": 3,
     "metadata": {},
     "output_type": "execute_result"
    }
   ],
   "source": [
    "import os\n",
    "data_dir = './data/Sarcastic Headlines/'\n",
    "os.path.exists(data_dir)"
   ]
  },
  {
   "cell_type": "code",
   "execution_count": 4,
   "metadata": {},
   "outputs": [],
   "source": [
    "raw_data_1 = pd.read_json(path_or_buf=data_dir + 'Sarcasm_Headlines_Dataset.json', lines=True)\n",
    "raw_data_2 = pd.read_json(path_or_buf=data_dir + 'Sarcasm_Headlines_Dataset_v2.json', lines=True)"
   ]
  },
  {
   "cell_type": "code",
   "execution_count": 5,
   "metadata": {},
   "outputs": [
    {
     "data": {
      "text/html": [
       "<div>\n",
       "<style scoped>\n",
       "    .dataframe tbody tr th:only-of-type {\n",
       "        vertical-align: middle;\n",
       "    }\n",
       "\n",
       "    .dataframe tbody tr th {\n",
       "        vertical-align: top;\n",
       "    }\n",
       "\n",
       "    .dataframe thead th {\n",
       "        text-align: right;\n",
       "    }\n",
       "</style>\n",
       "<table border=\"1\" class=\"dataframe\">\n",
       "  <thead>\n",
       "    <tr style=\"text-align: right;\">\n",
       "      <th></th>\n",
       "      <th>article_link</th>\n",
       "      <th>headline</th>\n",
       "      <th>is_sarcastic</th>\n",
       "    </tr>\n",
       "  </thead>\n",
       "  <tbody>\n",
       "    <tr>\n",
       "      <th>0</th>\n",
       "      <td>https://www.huffingtonpost.com/entry/versace-b...</td>\n",
       "      <td>former versace store clerk sues over secret 'b...</td>\n",
       "      <td>0</td>\n",
       "    </tr>\n",
       "    <tr>\n",
       "      <th>1</th>\n",
       "      <td>https://www.huffingtonpost.com/entry/roseanne-...</td>\n",
       "      <td>the 'roseanne' revival catches up to our thorn...</td>\n",
       "      <td>0</td>\n",
       "    </tr>\n",
       "    <tr>\n",
       "      <th>2</th>\n",
       "      <td>https://local.theonion.com/mom-starting-to-fea...</td>\n",
       "      <td>mom starting to fear son's web series closest ...</td>\n",
       "      <td>1</td>\n",
       "    </tr>\n",
       "    <tr>\n",
       "      <th>3</th>\n",
       "      <td>https://politics.theonion.com/boehner-just-wan...</td>\n",
       "      <td>boehner just wants wife to listen, not come up...</td>\n",
       "      <td>1</td>\n",
       "    </tr>\n",
       "    <tr>\n",
       "      <th>4</th>\n",
       "      <td>https://www.huffingtonpost.com/entry/jk-rowlin...</td>\n",
       "      <td>j.k. rowling wishes snape happy birthday in th...</td>\n",
       "      <td>0</td>\n",
       "    </tr>\n",
       "  </tbody>\n",
       "</table>\n",
       "</div>"
      ],
      "text/plain": [
       "                                        article_link  \\\n",
       "0  https://www.huffingtonpost.com/entry/versace-b...   \n",
       "1  https://www.huffingtonpost.com/entry/roseanne-...   \n",
       "2  https://local.theonion.com/mom-starting-to-fea...   \n",
       "3  https://politics.theonion.com/boehner-just-wan...   \n",
       "4  https://www.huffingtonpost.com/entry/jk-rowlin...   \n",
       "\n",
       "                                            headline  is_sarcastic  \n",
       "0  former versace store clerk sues over secret 'b...             0  \n",
       "1  the 'roseanne' revival catches up to our thorn...             0  \n",
       "2  mom starting to fear son's web series closest ...             1  \n",
       "3  boehner just wants wife to listen, not come up...             1  \n",
       "4  j.k. rowling wishes snape happy birthday in th...             0  "
      ]
     },
     "execution_count": 5,
     "metadata": {},
     "output_type": "execute_result"
    }
   ],
   "source": [
    "raw_data_1.head()"
   ]
  },
  {
   "cell_type": "code",
   "execution_count": 6,
   "metadata": {},
   "outputs": [
    {
     "data": {
      "text/html": [
       "<div>\n",
       "<style scoped>\n",
       "    .dataframe tbody tr th:only-of-type {\n",
       "        vertical-align: middle;\n",
       "    }\n",
       "\n",
       "    .dataframe tbody tr th {\n",
       "        vertical-align: top;\n",
       "    }\n",
       "\n",
       "    .dataframe thead th {\n",
       "        text-align: right;\n",
       "    }\n",
       "</style>\n",
       "<table border=\"1\" class=\"dataframe\">\n",
       "  <thead>\n",
       "    <tr style=\"text-align: right;\">\n",
       "      <th></th>\n",
       "      <th>is_sarcastic</th>\n",
       "      <th>headline</th>\n",
       "      <th>article_link</th>\n",
       "    </tr>\n",
       "  </thead>\n",
       "  <tbody>\n",
       "    <tr>\n",
       "      <th>0</th>\n",
       "      <td>1</td>\n",
       "      <td>thirtysomething scientists unveil doomsday clo...</td>\n",
       "      <td>https://www.theonion.com/thirtysomething-scien...</td>\n",
       "    </tr>\n",
       "    <tr>\n",
       "      <th>1</th>\n",
       "      <td>0</td>\n",
       "      <td>dem rep. totally nails why congress is falling...</td>\n",
       "      <td>https://www.huffingtonpost.com/entry/donna-edw...</td>\n",
       "    </tr>\n",
       "    <tr>\n",
       "      <th>2</th>\n",
       "      <td>0</td>\n",
       "      <td>eat your veggies: 9 deliciously different recipes</td>\n",
       "      <td>https://www.huffingtonpost.com/entry/eat-your-...</td>\n",
       "    </tr>\n",
       "    <tr>\n",
       "      <th>3</th>\n",
       "      <td>1</td>\n",
       "      <td>inclement weather prevents liar from getting t...</td>\n",
       "      <td>https://local.theonion.com/inclement-weather-p...</td>\n",
       "    </tr>\n",
       "    <tr>\n",
       "      <th>4</th>\n",
       "      <td>1</td>\n",
       "      <td>mother comes pretty close to using word 'strea...</td>\n",
       "      <td>https://www.theonion.com/mother-comes-pretty-c...</td>\n",
       "    </tr>\n",
       "  </tbody>\n",
       "</table>\n",
       "</div>"
      ],
      "text/plain": [
       "   is_sarcastic                                           headline  \\\n",
       "0             1  thirtysomething scientists unveil doomsday clo...   \n",
       "1             0  dem rep. totally nails why congress is falling...   \n",
       "2             0  eat your veggies: 9 deliciously different recipes   \n",
       "3             1  inclement weather prevents liar from getting t...   \n",
       "4             1  mother comes pretty close to using word 'strea...   \n",
       "\n",
       "                                        article_link  \n",
       "0  https://www.theonion.com/thirtysomething-scien...  \n",
       "1  https://www.huffingtonpost.com/entry/donna-edw...  \n",
       "2  https://www.huffingtonpost.com/entry/eat-your-...  \n",
       "3  https://local.theonion.com/inclement-weather-p...  \n",
       "4  https://www.theonion.com/mother-comes-pretty-c...  "
      ]
     },
     "execution_count": 6,
     "metadata": {},
     "output_type": "execute_result"
    }
   ],
   "source": [
    "raw_data_2.head()"
   ]
  },
  {
   "cell_type": "code",
   "execution_count": 7,
   "metadata": {},
   "outputs": [
    {
     "name": "stdout",
     "output_type": "stream",
     "text": [
      "Dataset 1 has 26709 columns and 3 rows\n",
      "Dataset 2 has 28619 columns and 3 rows\n"
     ]
    }
   ],
   "source": [
    "print('Dataset 1 has {} columns and {} rows'.format(raw_data_1.shape[0], raw_data_1.shape[1]))\n",
    "print('Dataset 2 has {} columns and {} rows'.format(raw_data_2.shape[0], raw_data_2.shape[1]))"
   ]
  },
  {
   "cell_type": "markdown",
   "metadata": {},
   "source": [
    "Join both together"
   ]
  },
  {
   "cell_type": "code",
   "execution_count": 8,
   "metadata": {},
   "outputs": [],
   "source": [
    "complete_data_raw = pd.concat([raw_data_1, raw_data_2]).reset_index(drop=True).copy()"
   ]
  },
  {
   "cell_type": "code",
   "execution_count": 9,
   "metadata": {},
   "outputs": [
    {
     "data": {
      "text/html": [
       "<div>\n",
       "<style scoped>\n",
       "    .dataframe tbody tr th:only-of-type {\n",
       "        vertical-align: middle;\n",
       "    }\n",
       "\n",
       "    .dataframe tbody tr th {\n",
       "        vertical-align: top;\n",
       "    }\n",
       "\n",
       "    .dataframe thead th {\n",
       "        text-align: right;\n",
       "    }\n",
       "</style>\n",
       "<table border=\"1\" class=\"dataframe\">\n",
       "  <thead>\n",
       "    <tr style=\"text-align: right;\">\n",
       "      <th></th>\n",
       "      <th>article_link</th>\n",
       "      <th>headline</th>\n",
       "      <th>is_sarcastic</th>\n",
       "    </tr>\n",
       "  </thead>\n",
       "  <tbody>\n",
       "    <tr>\n",
       "      <th>0</th>\n",
       "      <td>https://www.huffingtonpost.com/entry/versace-b...</td>\n",
       "      <td>former versace store clerk sues over secret 'b...</td>\n",
       "      <td>0</td>\n",
       "    </tr>\n",
       "    <tr>\n",
       "      <th>1</th>\n",
       "      <td>https://www.huffingtonpost.com/entry/roseanne-...</td>\n",
       "      <td>the 'roseanne' revival catches up to our thorn...</td>\n",
       "      <td>0</td>\n",
       "    </tr>\n",
       "    <tr>\n",
       "      <th>2</th>\n",
       "      <td>https://local.theonion.com/mom-starting-to-fea...</td>\n",
       "      <td>mom starting to fear son's web series closest ...</td>\n",
       "      <td>1</td>\n",
       "    </tr>\n",
       "    <tr>\n",
       "      <th>3</th>\n",
       "      <td>https://politics.theonion.com/boehner-just-wan...</td>\n",
       "      <td>boehner just wants wife to listen, not come up...</td>\n",
       "      <td>1</td>\n",
       "    </tr>\n",
       "    <tr>\n",
       "      <th>4</th>\n",
       "      <td>https://www.huffingtonpost.com/entry/jk-rowlin...</td>\n",
       "      <td>j.k. rowling wishes snape happy birthday in th...</td>\n",
       "      <td>0</td>\n",
       "    </tr>\n",
       "  </tbody>\n",
       "</table>\n",
       "</div>"
      ],
      "text/plain": [
       "                                        article_link  \\\n",
       "0  https://www.huffingtonpost.com/entry/versace-b...   \n",
       "1  https://www.huffingtonpost.com/entry/roseanne-...   \n",
       "2  https://local.theonion.com/mom-starting-to-fea...   \n",
       "3  https://politics.theonion.com/boehner-just-wan...   \n",
       "4  https://www.huffingtonpost.com/entry/jk-rowlin...   \n",
       "\n",
       "                                            headline  is_sarcastic  \n",
       "0  former versace store clerk sues over secret 'b...             0  \n",
       "1  the 'roseanne' revival catches up to our thorn...             0  \n",
       "2  mom starting to fear son's web series closest ...             1  \n",
       "3  boehner just wants wife to listen, not come up...             1  \n",
       "4  j.k. rowling wishes snape happy birthday in th...             0  "
      ]
     },
     "execution_count": 9,
     "metadata": {},
     "output_type": "execute_result"
    }
   ],
   "source": [
    "complete_data_raw.head()"
   ]
  },
  {
   "cell_type": "code",
   "execution_count": 10,
   "metadata": {},
   "outputs": [
    {
     "data": {
      "text/plain": [
       "(55328, 3)"
      ]
     },
     "execution_count": 10,
     "metadata": {},
     "output_type": "execute_result"
    }
   ],
   "source": [
    "complete_data_raw.shape"
   ]
  },
  {
   "cell_type": "markdown",
   "metadata": {},
   "source": [
    "There are 55,328 total rows in the dataset"
   ]
  },
  {
   "cell_type": "code",
   "execution_count": 11,
   "metadata": {
    "scrolled": false
   },
   "outputs": [
    {
     "data": {
      "image/png": "[encoded data removed]",
      "text/plain": [
       "<Figure size 432x288 with 1 Axes>"
      ]
     },
     "metadata": {},
     "output_type": "display_data"
    }
   ],
   "source": [
    "num_sarcastic = complete_data_raw['is_sarcastic'].value_counts()[1]\n",
    "num_not_sarcastic = complete_data_raw['is_sarcastic'].value_counts()[0]\n",
    "\n",
    "complete_data_raw['is_sarcastic'].value_counts().plot(kind='bar')\n",
    "plt.xticks([0,1], ['Not Sarcastic', 'Sarcastic'], rotation=0)\n",
    "plt.title('Sarcastic Counts {:.2f}%'.format((num_sarcastic / (num_sarcastic + num_not_sarcastic)*100)));"
   ]
  },
  {
   "cell_type": "markdown",
   "metadata": {},
   "source": [
    "Overall, this dataset is fairly balanced"
   ]
  },
  {
   "cell_type": "markdown",
   "metadata": {},
   "source": [
    "**Pre-processing**"
   ]
  },
  {
   "cell_type": "markdown",
   "metadata": {},
   "source": [
    "For pre-processing the data, I will only be removing the punctuations and capitalizations in order to preserve as much of the original headlines as possible"
   ]
  },
  {
   "cell_type": "code",
   "execution_count": 12,
   "metadata": {},
   "outputs": [],
   "source": [
    "# Copy the original data\n",
    "complete_data_preprocessed = complete_data_raw.copy()\n",
    "\n",
    "# Lowercases all words\n",
    "complete_data_preprocessed['headline'] = complete_data_preprocessed['headline'].str.lower()\n",
    "\n",
    "# Remove all puncutation\n",
    "def remove_punctuations(text):\n",
    "    for punctuation in string.punctuation:\n",
    "        text = text.replace(punctuation, '')\n",
    "    return text\n",
    "\n",
    "complete_data_preprocessed['headline'] = complete_data_preprocessed['headline'].apply(remove_punctuations)"
   ]
  },
  {
   "cell_type": "code",
   "execution_count": 13,
   "metadata": {},
   "outputs": [
    {
     "data": {
      "text/html": [
       "<div>\n",
       "<style scoped>\n",
       "    .dataframe tbody tr th:only-of-type {\n",
       "        vertical-align: middle;\n",
       "    }\n",
       "\n",
       "    .dataframe tbody tr th {\n",
       "        vertical-align: top;\n",
       "    }\n",
       "\n",
       "    .dataframe thead th {\n",
       "        text-align: right;\n",
       "    }\n",
       "</style>\n",
       "<table border=\"1\" class=\"dataframe\">\n",
       "  <thead>\n",
       "    <tr style=\"text-align: right;\">\n",
       "      <th></th>\n",
       "      <th>article_link</th>\n",
       "      <th>headline</th>\n",
       "      <th>is_sarcastic</th>\n",
       "    </tr>\n",
       "  </thead>\n",
       "  <tbody>\n",
       "    <tr>\n",
       "      <th>0</th>\n",
       "      <td>https://www.huffingtonpost.com/entry/versace-b...</td>\n",
       "      <td>former versace store clerk sues over secret bl...</td>\n",
       "      <td>0</td>\n",
       "    </tr>\n",
       "    <tr>\n",
       "      <th>1</th>\n",
       "      <td>https://www.huffingtonpost.com/entry/roseanne-...</td>\n",
       "      <td>the roseanne revival catches up to our thorny ...</td>\n",
       "      <td>0</td>\n",
       "    </tr>\n",
       "    <tr>\n",
       "      <th>2</th>\n",
       "      <td>https://local.theonion.com/mom-starting-to-fea...</td>\n",
       "      <td>mom starting to fear sons web series closest t...</td>\n",
       "      <td>1</td>\n",
       "    </tr>\n",
       "    <tr>\n",
       "      <th>3</th>\n",
       "      <td>https://politics.theonion.com/boehner-just-wan...</td>\n",
       "      <td>boehner just wants wife to listen not come up ...</td>\n",
       "      <td>1</td>\n",
       "    </tr>\n",
       "    <tr>\n",
       "      <th>4</th>\n",
       "      <td>https://www.huffingtonpost.com/entry/jk-rowlin...</td>\n",
       "      <td>jk rowling wishes snape happy birthday in the ...</td>\n",
       "      <td>0</td>\n",
       "    </tr>\n",
       "  </tbody>\n",
       "</table>\n",
       "</div>"
      ],
      "text/plain": [
       "                                        article_link  \\\n",
       "0  https://www.huffingtonpost.com/entry/versace-b...   \n",
       "1  https://www.huffingtonpost.com/entry/roseanne-...   \n",
       "2  https://local.theonion.com/mom-starting-to-fea...   \n",
       "3  https://politics.theonion.com/boehner-just-wan...   \n",
       "4  https://www.huffingtonpost.com/entry/jk-rowlin...   \n",
       "\n",
       "                                            headline  is_sarcastic  \n",
       "0  former versace store clerk sues over secret bl...             0  \n",
       "1  the roseanne revival catches up to our thorny ...             0  \n",
       "2  mom starting to fear sons web series closest t...             1  \n",
       "3  boehner just wants wife to listen not come up ...             1  \n",
       "4  jk rowling wishes snape happy birthday in the ...             0  "
      ]
     },
     "execution_count": 13,
     "metadata": {},
     "output_type": "execute_result"
    }
   ],
   "source": [
    "complete_data_preprocessed.head()"
   ]
  },
  {
   "cell_type": "markdown",
   "metadata": {},
   "source": [
    "**Checking for duplicates**"
   ]
  },
  {
   "cell_type": "code",
   "execution_count": 14,
   "metadata": {},
   "outputs": [
    {
     "data": {
      "text/plain": [
       "(26711, 3)"
      ]
     },
     "execution_count": 14,
     "metadata": {},
     "output_type": "execute_result"
    }
   ],
   "source": [
    "complete_data_preprocessed[complete_data_preprocessed.duplicated()].shape"
   ]
  },
  {
   "cell_type": "markdown",
   "metadata": {},
   "source": [
    "There are 26,711 duplicate entries in the dataset. YIKES!  \n",
    "I will remove those."
   ]
  },
  {
   "cell_type": "code",
   "execution_count": 15,
   "metadata": {},
   "outputs": [
    {
     "data": {
      "text/plain": [
       "(28617, 3)"
      ]
     },
     "execution_count": 15,
     "metadata": {},
     "output_type": "execute_result"
    }
   ],
   "source": [
    "complete_data_preprocessed.drop_duplicates(inplace=True)\n",
    "complete_data_preprocessed.shape"
   ]
  },
  {
   "cell_type": "code",
   "execution_count": 16,
   "metadata": {},
   "outputs": [
    {
     "data": {
      "image/png": "[encoded data removed]",
      "text/plain": [
       "<Figure size 432x288 with 1 Axes>"
      ]
     },
     "metadata": {},
     "output_type": "display_data"
    }
   ],
   "source": [
    "num_sarcastic = complete_data_preprocessed['is_sarcastic'].value_counts()[1]\n",
    "num_not_sarcastic = complete_data_preprocessed['is_sarcastic'].value_counts()[0]\n",
    "\n",
    "complete_data_preprocessed['is_sarcastic'].value_counts().plot(kind='bar')\n",
    "plt.xticks([0,1], ['Not Sarcastic', 'Sarcastic'], rotation=0)\n",
    "plt.title('Sarcastic Counts {:.2f}%'.format((num_sarcastic / (num_sarcastic + num_not_sarcastic)*100)));"
   ]
  },
  {
   "cell_type": "markdown",
   "metadata": {},
   "source": [
    "Now that the data does not contain duplicates and is pre-processed, I will first begin with a baseline Naive Bayes model."
   ]
  },
  {
   "cell_type": "markdown",
   "metadata": {},
   "source": [
    "**Creating a dataset with stopwords removed**"
   ]
  },
  {
   "cell_type": "code",
   "execution_count": 17,
   "metadata": {},
   "outputs": [],
   "source": [
    "standford_stopwords = {\"'ll\", \"'m\", \"'s\", 'a', 'about', 'above', 'after', 'again', 'against', 'ah', 'all', 'am', 'an', 'and', 'any', 'are', \"aren't\", 'arent', 'as', 'at', 'be', 'because', 'been', 'before', 'being', 'below', 'between', 'both', 'but', 'by', 'can', \"can't\", 'cannot', 'cant', 'could', \"couldn't\", 'couldnt', 'did', \"didn't\", 'didnt', 'do', 'does', \"doesn't\", 'doesnt', 'doing', \"don't\", 'dont', 'down', 'during', 'each', 'er', 'er', 'few', 'for', 'from', 'further', 'had', \"hadn't\", 'hadnt', 'has', \"hasn't\", 'hasnt', 'have', \"haven't\", 'havent', 'having', 'he', \"he'd\", \"he'll\", \"he's\", 'her', 'here', \"here's\", 'heres', 'hers', 'herself', 'hes', 'him', 'himself', 'his', 'how', \"how's\", 'hows', 'i', \"i'd\", \"i'll\", \"i'm\", \"i've\", 'if', 'im', 'in', 'into', 'is', \"isn't\", 'isnt', 'it', \"it's\", 'its', 'itself', \"let's\", 'lets', 'like', 'me', 'more', 'most', \"mustn't\", 'mustnt', 'my', 'myself', 'no', 'nor', 'not', 'of', 'off', 'oh', 'okay', 'on', 'once', 'only', 'or', 'other', 'ought', 'our', 'ours ', 'ourselves', 'out', 'over', 'own', 'return', 'right', 'same', \"shan't\", 'shant', 'she', \"she'd\", \"she'll\", \"she's\", 'shes', 'should', \"shouldn't\", 'shouldnt', 'so', 'some', 'such', 'than', 'that', \"that's\", 'thats', 'the', 'their', 'theirs', 'them', 'themselves', 'then', 'there', \"there's\", 'theres', 'these', 'they', \"they'd\", \"they'll\", \"they're\", \"they've\", 'theyll', 'theyre', 'theyve', 'this', 'those', 'through', 'to', 'too', 'uh', 'um', 'under', 'until', 'up', 'very', 'was', \"wasn't\", 'wasnt', 'we', \"we'd\", \"we'll\", \"we're\", \"we've\", 'well', 'were', \"weren't\", 'werent', 'what', \"what's\", 'whats', 'when', \"when's\", 'whens', 'where', \"where's\", 'wheres', 'which', 'while', 'who', \"who's\", 'whom', 'whos', 'why', \"why's\", 'whys', 'with', \"won't\", 'wont', 'would', \"wouldn't\", 'wouldnt', 'yeah', 'you', 'you know', \"you'd\", \"you'll\", \"you're\", \"you've\", 'youd', 'youll', 'your', 'youre', 'yours', 'yourself', 'yourselves', 'youve'}"
   ]
  },
  {
   "cell_type": "code",
   "execution_count": 18,
   "metadata": {},
   "outputs": [],
   "source": [
    "def remove_stopwords(tokens: list(), stop_words: set(), replace: str = None) -> list():\n",
    "    filtered = []\n",
    "    ### Removing stop words\n",
    "    for word in tokens:\n",
    "        if word not in stop_words:\n",
    "            filtered.append(word)\n",
    "        else:\n",
    "            if replace is not None:\n",
    "                filtered.append(replace)\n",
    "    return filtered"
   ]
  },
  {
   "cell_type": "code",
   "execution_count": 19,
   "metadata": {},
   "outputs": [],
   "source": [
    "def clean_response(row):\n",
    "    response_list = row.split()\n",
    "    response_list_cleaned = remove_stopwords(response_list, standford_stopwords)\n",
    "    return ' '.join(response_list_cleaned)"
   ]
  },
  {
   "cell_type": "code",
   "execution_count": 20,
   "metadata": {},
   "outputs": [
    {
     "data": {
      "text/plain": [
       "'mom starting to fear sons web series closest thing she will have to grandchild'"
      ]
     },
     "execution_count": 20,
     "metadata": {},
     "output_type": "execute_result"
    }
   ],
   "source": [
    "complete_data_preprocessed['headline'][2]"
   ]
  },
  {
   "cell_type": "code",
   "execution_count": 21,
   "metadata": {
    "scrolled": true
   },
   "outputs": [
    {
     "data": {
      "text/plain": [
       "'mom starting fear sons web series closest thing will grandchild'"
      ]
     },
     "execution_count": 21,
     "metadata": {},
     "output_type": "execute_result"
    }
   ],
   "source": [
    "clean_response(complete_data_preprocessed['headline'][2])"
   ]
  },
  {
   "cell_type": "markdown",
   "metadata": {},
   "source": [
    "Apply to whole dataset"
   ]
  },
  {
   "cell_type": "code",
   "execution_count": 22,
   "metadata": {
    "scrolled": false
   },
   "outputs": [
    {
     "data": {
      "text/html": [
       "<div>\n",
       "<style scoped>\n",
       "    .dataframe tbody tr th:only-of-type {\n",
       "        vertical-align: middle;\n",
       "    }\n",
       "\n",
       "    .dataframe tbody tr th {\n",
       "        vertical-align: top;\n",
       "    }\n",
       "\n",
       "    .dataframe thead th {\n",
       "        text-align: right;\n",
       "    }\n",
       "</style>\n",
       "<table border=\"1\" class=\"dataframe\">\n",
       "  <thead>\n",
       "    <tr style=\"text-align: right;\">\n",
       "      <th></th>\n",
       "      <th>article_link</th>\n",
       "      <th>headline</th>\n",
       "      <th>is_sarcastic</th>\n",
       "      <th>headline_no_stopwords</th>\n",
       "    </tr>\n",
       "  </thead>\n",
       "  <tbody>\n",
       "    <tr>\n",
       "      <th>0</th>\n",
       "      <td>https://www.huffingtonpost.com/entry/versace-b...</td>\n",
       "      <td>former versace store clerk sues over secret bl...</td>\n",
       "      <td>0</td>\n",
       "      <td>former versace store clerk sues secret black c...</td>\n",
       "    </tr>\n",
       "    <tr>\n",
       "      <th>1</th>\n",
       "      <td>https://www.huffingtonpost.com/entry/roseanne-...</td>\n",
       "      <td>the roseanne revival catches up to our thorny ...</td>\n",
       "      <td>0</td>\n",
       "      <td>roseanne revival catches thorny political mood...</td>\n",
       "    </tr>\n",
       "    <tr>\n",
       "      <th>2</th>\n",
       "      <td>https://local.theonion.com/mom-starting-to-fea...</td>\n",
       "      <td>mom starting to fear sons web series closest t...</td>\n",
       "      <td>1</td>\n",
       "      <td>mom starting fear sons web series closest thin...</td>\n",
       "    </tr>\n",
       "    <tr>\n",
       "      <th>3</th>\n",
       "      <td>https://politics.theonion.com/boehner-just-wan...</td>\n",
       "      <td>boehner just wants wife to listen not come up ...</td>\n",
       "      <td>1</td>\n",
       "      <td>boehner just wants wife listen come alternativ...</td>\n",
       "    </tr>\n",
       "    <tr>\n",
       "      <th>4</th>\n",
       "      <td>https://www.huffingtonpost.com/entry/jk-rowlin...</td>\n",
       "      <td>jk rowling wishes snape happy birthday in the ...</td>\n",
       "      <td>0</td>\n",
       "      <td>jk rowling wishes snape happy birthday magical...</td>\n",
       "    </tr>\n",
       "    <tr>\n",
       "      <th>...</th>\n",
       "      <td>...</td>\n",
       "      <td>...</td>\n",
       "      <td>...</td>\n",
       "      <td>...</td>\n",
       "    </tr>\n",
       "    <tr>\n",
       "      <th>55206</th>\n",
       "      <td>https://www.theonion.com/tyson-holds-contest-t...</td>\n",
       "      <td>tyson holds contest to let fans submit new ide...</td>\n",
       "      <td>1</td>\n",
       "      <td>tyson holds contest let fans submit new ideas ...</td>\n",
       "    </tr>\n",
       "    <tr>\n",
       "      <th>55218</th>\n",
       "      <td>https://politics.theonion.com/increasingly-coc...</td>\n",
       "      <td>increasingly cocky bernie sanders announces he...</td>\n",
       "      <td>1</td>\n",
       "      <td>increasingly cocky bernie sanders announces ta...</td>\n",
       "    </tr>\n",
       "    <tr>\n",
       "      <th>55229</th>\n",
       "      <td>https://www.theonion.com/cash-strapped-zuckerb...</td>\n",
       "      <td>cashstrapped zuckerberg forced to sell 11 mill...</td>\n",
       "      <td>1</td>\n",
       "      <td>cashstrapped zuckerberg forced sell 11 million...</td>\n",
       "    </tr>\n",
       "    <tr>\n",
       "      <th>55253</th>\n",
       "      <td>https://local.theonion.com/grocery-store-bar-a...</td>\n",
       "      <td>grocery store bar actually has great little ha...</td>\n",
       "      <td>1</td>\n",
       "      <td>grocery store bar actually great little happy ...</td>\n",
       "    </tr>\n",
       "    <tr>\n",
       "      <th>55298</th>\n",
       "      <td>https://www.theonion.com/study-83-of-marathon-...</td>\n",
       "      <td>study 83 of marathon spectators only attend fo...</td>\n",
       "      <td>1</td>\n",
       "      <td>study 83 marathon spectators attend sick thril...</td>\n",
       "    </tr>\n",
       "  </tbody>\n",
       "</table>\n",
       "<p>28617 rows × 4 columns</p>\n",
       "</div>"
      ],
      "text/plain": [
       "                                            article_link  \\\n",
       "0      https://www.huffingtonpost.com/entry/versace-b...   \n",
       "1      https://www.huffingtonpost.com/entry/roseanne-...   \n",
       "2      https://local.theonion.com/mom-starting-to-fea...   \n",
       "3      https://politics.theonion.com/boehner-just-wan...   \n",
       "4      https://www.huffingtonpost.com/entry/jk-rowlin...   \n",
       "...                                                  ...   \n",
       "55206  https://www.theonion.com/tyson-holds-contest-t...   \n",
       "55218  https://politics.theonion.com/increasingly-coc...   \n",
       "55229  https://www.theonion.com/cash-strapped-zuckerb...   \n",
       "55253  https://local.theonion.com/grocery-store-bar-a...   \n",
       "55298  https://www.theonion.com/study-83-of-marathon-...   \n",
       "\n",
       "                                                headline  is_sarcastic  \\\n",
       "0      former versace store clerk sues over secret bl...             0   \n",
       "1      the roseanne revival catches up to our thorny ...             0   \n",
       "2      mom starting to fear sons web series closest t...             1   \n",
       "3      boehner just wants wife to listen not come up ...             1   \n",
       "4      jk rowling wishes snape happy birthday in the ...             0   \n",
       "...                                                  ...           ...   \n",
       "55206  tyson holds contest to let fans submit new ide...             1   \n",
       "55218  increasingly cocky bernie sanders announces he...             1   \n",
       "55229  cashstrapped zuckerberg forced to sell 11 mill...             1   \n",
       "55253  grocery store bar actually has great little ha...             1   \n",
       "55298  study 83 of marathon spectators only attend fo...             1   \n",
       "\n",
       "                                   headline_no_stopwords  \n",
       "0      former versace store clerk sues secret black c...  \n",
       "1      roseanne revival catches thorny political mood...  \n",
       "2      mom starting fear sons web series closest thin...  \n",
       "3      boehner just wants wife listen come alternativ...  \n",
       "4      jk rowling wishes snape happy birthday magical...  \n",
       "...                                                  ...  \n",
       "55206  tyson holds contest let fans submit new ideas ...  \n",
       "55218  increasingly cocky bernie sanders announces ta...  \n",
       "55229  cashstrapped zuckerberg forced sell 11 million...  \n",
       "55253  grocery store bar actually great little happy ...  \n",
       "55298  study 83 marathon spectators attend sick thril...  \n",
       "\n",
       "[28617 rows x 4 columns]"
      ]
     },
     "execution_count": 22,
     "metadata": {},
     "output_type": "execute_result"
    }
   ],
   "source": [
    "complete_data_preprocessed['headline_no_stopwords'] = complete_data_preprocessed['headline'].apply(clean_response)\n",
    "complete_data_preprocessed"
   ]
  },
  {
   "cell_type": "markdown",
   "metadata": {},
   "source": [
    "**Data Exploration**"
   ]
  },
  {
   "cell_type": "markdown",
   "metadata": {},
   "source": [
    "*Counting how many unique words there are in the dataset*"
   ]
  },
  {
   "cell_type": "code",
   "execution_count": 27,
   "metadata": {},
   "outputs": [
    {
     "name": "stdout",
     "output_type": "stream",
     "text": [
      "There are 28523 total words in the dataset\n"
     ]
    }
   ],
   "source": [
    "all_entries = ''\n",
    "for i in range(complete_data_preprocessed.shape[0]):\n",
    "    try:\n",
    "        all_entries += str(complete_data_preprocessed['headline'][i]) + ' '\n",
    "    except:\n",
    "        continue\n",
    "\n",
    "all_entries = all_entries.split()\n",
    "total_words = len(np.unique(np.array(all_entries)))\n",
    "print('There are {} total words in the dataset'.format(total_words))"
   ]
  },
  {
   "cell_type": "markdown",
   "metadata": {},
   "source": [
    "### Naive Bayes (Baseline)"
   ]
  },
  {
   "cell_type": "code",
   "execution_count": 23,
   "metadata": {},
   "outputs": [],
   "source": [
    "from sklearn.feature_extraction.text import TfidfVectorizer\n",
    "from sklearn.naive_bayes import MultinomialNB\n",
    "from sklearn.pipeline import make_pipeline\n",
    "from sklearn.model_selection import train_test_split"
   ]
  },
  {
   "cell_type": "markdown",
   "metadata": {},
   "source": [
    "**Split dataset into training and testing data**"
   ]
  },
  {
   "cell_type": "code",
   "execution_count": 24,
   "metadata": {},
   "outputs": [],
   "source": [
    "X = complete_data_preprocessed['headline']\n",
    "y = complete_data_preprocessed['is_sarcastic']\n",
    "\n",
    "X_train, X_test, y_train, y_test = train_test_split(X, y, \n",
    "                                                    test_size=0.2, # 20% for testing, 80% for training \n",
    "                                                    random_state=43) # Initializing for reproducibility"
   ]
  },
  {
   "cell_type": "code",
   "execution_count": 26,
   "metadata": {},
   "outputs": [
    {
     "data": {
      "image/png": "[encoded data removed]",
      "text/plain": [
       "<Figure size 864x288 with 2 Axes>"
      ]
     },
     "metadata": {},
     "output_type": "display_data"
    }
   ],
   "source": [
    "fig, (ax1, ax2) = plt.subplots(1,2, figsize=(12,4))\n",
    "\n",
    "y_train.value_counts().plot.bar(ax=ax1)\n",
    "plt.sca(ax1)\n",
    "plt.title('Distribution of training dataset')\n",
    "plt.xticks([0,1],['Not Sarcastic','Sarcastic'], rotation=0)\n",
    "\n",
    "y_test.value_counts().plot.bar(ax=ax2)\n",
    "plt.sca(ax2)\n",
    "plt.title('Distribution of training dataset')\n",
    "plt.xticks([0,1],['Not Sarcastic','Sarcastic'], rotation=0);"
   ]
  },
  {
   "cell_type": "code",
   "execution_count": 28,
   "metadata": {},
   "outputs": [],
   "source": [
    "model = make_pipeline(TfidfVectorizer(), MultinomialNB())\n",
    "model.fit(X_train, y_train)\n",
    "\n",
    "### Make predictions\n",
    "y_predict = model.predict(X_test)"
   ]
  },
  {
   "cell_type": "code",
   "execution_count": 29,
   "metadata": {},
   "outputs": [
    {
     "name": "stdout",
     "output_type": "stream",
     "text": [
      "Baseline Accuracy: 82.91%\n"
     ]
    }
   ],
   "source": [
    "print('Baseline Accuracy: {:.2f}%'.format((y_test == y_predict).mean() * 100))"
   ]
  },
  {
   "cell_type": "markdown",
   "metadata": {},
   "source": [
    "We were able to accurately predict if a headline is sarcastic around 83% of the time. Next, I will be using a much more complex DNN model to improve this accuracy."
   ]
  },
  {
   "cell_type": "markdown",
   "metadata": {},
   "source": [
    "### BERT Tensorflow Implementation"
   ]
  },
  {
   "cell_type": "markdown",
   "metadata": {},
   "source": [
    "**Pre-processing**"
   ]
  },
  {
   "cell_type": "markdown",
   "metadata": {},
   "source": [
    "1.   Split data into train, validation, and test datasets\n",
    "2.   Encode labels\n",
    "3.   Tokenize text"
   ]
  },
  {
   "cell_type": "markdown",
   "metadata": {},
   "source": [
    "*Removing Duplicates in the dataset*"
   ]
  },
  {
   "cell_type": "code",
   "execution_count": 40,
   "metadata": {},
   "outputs": [
    {
     "name": "stdout",
     "output_type": "stream",
     "text": [
      "26711 duplicate rows dropped\n",
      "New number of rows in data set: 28617\n"
     ]
    }
   ],
   "source": [
    "num_rows_b4 = complete_data_raw.shape[0]\n",
    "complete_data_raw.drop_duplicates(inplace=True)\n",
    "num_rows_after = complete_data_raw.shape[0]\n",
    "print('{} duplicate rows dropped'.format(num_rows_b4 - num_rows_after))\n",
    "print('New number of rows in data set:', complete_data_raw.shape[0])"
   ]
  },
  {
   "cell_type": "markdown",
   "metadata": {},
   "source": [
    "*Shuffling the dataset*"
   ]
  },
  {
   "cell_type": "code",
   "execution_count": 41,
   "metadata": {},
   "outputs": [
    {
     "data": {
      "text/html": [
       "<div>\n",
       "<style scoped>\n",
       "    .dataframe tbody tr th:only-of-type {\n",
       "        vertical-align: middle;\n",
       "    }\n",
       "\n",
       "    .dataframe tbody tr th {\n",
       "        vertical-align: top;\n",
       "    }\n",
       "\n",
       "    .dataframe thead th {\n",
       "        text-align: right;\n",
       "    }\n",
       "</style>\n",
       "<table border=\"1\" class=\"dataframe\">\n",
       "  <thead>\n",
       "    <tr style=\"text-align: right;\">\n",
       "      <th></th>\n",
       "      <th>headline</th>\n",
       "      <th>is_sarcastic</th>\n",
       "    </tr>\n",
       "  </thead>\n",
       "  <tbody>\n",
       "    <tr>\n",
       "      <th>44904</th>\n",
       "      <td>christian bale loses 40 years for upcoming mov...</td>\n",
       "      <td>1</td>\n",
       "    </tr>\n",
       "    <tr>\n",
       "      <th>1660</th>\n",
       "      <td>jon stewart and 9/11 responders walk the halls...</td>\n",
       "      <td>0</td>\n",
       "    </tr>\n",
       "    <tr>\n",
       "      <th>96</th>\n",
       "      <td>inhofe's grand climate conspiracy theory: it's...</td>\n",
       "      <td>0</td>\n",
       "    </tr>\n",
       "    <tr>\n",
       "      <th>6237</th>\n",
       "      <td>amber rose fearful over breast reduction surge...</td>\n",
       "      <td>0</td>\n",
       "    </tr>\n",
       "    <tr>\n",
       "      <th>6650</th>\n",
       "      <td>23-hour suicide watch a failure</td>\n",
       "      <td>1</td>\n",
       "    </tr>\n",
       "  </tbody>\n",
       "</table>\n",
       "</div>"
      ],
      "text/plain": [
       "                                                headline  is_sarcastic\n",
       "44904  christian bale loses 40 years for upcoming mov...             1\n",
       "1660   jon stewart and 9/11 responders walk the halls...             0\n",
       "96     inhofe's grand climate conspiracy theory: it's...             0\n",
       "6237   amber rose fearful over breast reduction surge...             0\n",
       "6650                     23-hour suicide watch a failure             1"
      ]
     },
     "execution_count": 41,
     "metadata": {},
     "output_type": "execute_result"
    }
   ],
   "source": [
    "### Shuffling the dataset\n",
    "df = complete_data_raw[['headline','is_sarcastic']].sample(frac=1, random_state=42).copy() # Rename dataset\n",
    "df.head()"
   ]
  },
  {
   "cell_type": "markdown",
   "metadata": {},
   "source": [
    "*Finding the optimal `input_length` to feed into the DNN*"
   ]
  },
  {
   "cell_type": "code",
   "execution_count": 42,
   "metadata": {},
   "outputs": [
    {
     "name": "stdout",
     "output_type": "stream",
     "text": [
      "Max Headline Length 151\n",
      "Mean Headline Length 10.05\n",
      "Median Headline Length 10.0\n",
      "Third Quantile Headline Length 12.0\n",
      "90% Headline Length 14.0\n",
      "99.99% Headline Length 31.96879999997327\n"
     ]
    }
   ],
   "source": [
    "### Finding the length of the longest headline\n",
    "def give_length(text):\n",
    "    return len(text.split())\n",
    "\n",
    "df['headline_length'] = df['headline'].apply(give_length)\n",
    "print('Max Headline Length {}'.format(df['headline_length'].max()))\n",
    "print('Mean Headline Length {:.2f}'.format(df['headline_length'].mean()))\n",
    "print('Median Headline Length {}'.format(df['headline_length'].median()))\n",
    "print('Third Quantile Headline Length {}'.format(np.percentile(df['headline_length'], 75)))\n",
    "print('90% Headline Length {}'.format(np.percentile(df['headline_length'], 90)))\n",
    "print('99.99% Headline Length {}'.format(np.percentile(df['headline_length'], 99.99)))"
   ]
  },
  {
   "cell_type": "code",
   "execution_count": 43,
   "metadata": {},
   "outputs": [
    {
     "data": {
      "image/png": "[encoded data removed]",
      "text/plain": [
       "<Figure size 432x288 with 1 Axes>"
      ]
     },
     "metadata": {},
     "output_type": "display_data"
    }
   ],
   "source": [
    "df['headline_length'].astype(float).plot.box();"
   ]
  },
  {
   "cell_type": "markdown",
   "metadata": {},
   "source": [
    "**Creating our test, training, validation datasets**"
   ]
  },
  {
   "cell_type": "markdown",
   "metadata": {},
   "source": [
    "- Training (~70%)\n",
    "- Validation (~20%)\n",
    "- Testing (~10%)"
   ]
  },
  {
   "cell_type": "code",
   "execution_count": 44,
   "metadata": {},
   "outputs": [
    {
     "name": "stdout",
     "output_type": "stream",
     "text": [
      "28617 number of samples\n",
      "20031 training samples\n",
      "5723 validation samples\n",
      "2863 testing samples\n"
     ]
    }
   ],
   "source": [
    "num_samples = df.shape[0]\n",
    "training_samples = int(np.percentile(np.arange(num_samples), 70))\n",
    "validation_samples = int(np.percentile(np.arange(num_samples), 20))\n",
    "print('{} number of samples'.format(num_samples))\n",
    "print('{} training samples'.format(training_samples))\n",
    "print('{} validation samples'.format(validation_samples))\n",
    "print('{} testing samples'.format(num_samples - training_samples - validation_samples))"
   ]
  },
  {
   "cell_type": "code",
   "execution_count": 45,
   "metadata": {},
   "outputs": [],
   "source": [
    "data = df['headline']\n",
    "labels = df['is_sarcastic']\n",
    "\n",
    "x_train = data[:training_samples]\n",
    "y_train = labels[:training_samples]\n",
    "x_val = data[training_samples: training_samples + validation_samples]\n",
    "y_val = labels[training_samples: training_samples + validation_samples]\n",
    "x_test = data[training_samples + validation_samples:]\n",
    "y_test = labels[training_samples + validation_samples:]"
   ]
  },
  {
   "cell_type": "code",
   "execution_count": 46,
   "metadata": {},
   "outputs": [],
   "source": [
    "### Sanity Check\n",
    "assert(x_train.shape[0] == training_samples)\n",
    "assert(y_train.shape[0] == training_samples)\n",
    "assert(x_val.shape[0] == validation_samples)\n",
    "assert(y_val.shape[0] == validation_samples)\n",
    "assert(x_test.shape[0] == num_samples - training_samples - validation_samples)\n",
    "assert(y_test.shape[0] == num_samples - training_samples - validation_samples)"
   ]
  },
  {
   "cell_type": "markdown",
   "metadata": {},
   "source": [
    "**Pre-Processing**"
   ]
  },
  {
   "cell_type": "markdown",
   "metadata": {},
   "source": [
    "*Turning the tokenization process into functions*"
   ]
  },
  {
   "cell_type": "code",
   "execution_count": 48,
   "metadata": {},
   "outputs": [],
   "source": [
    "bert_layer = hub.KerasLayer(\"https://tfhub.dev/tensorflow/bert_multi_cased_L-12_H-768_A-12/2\", trainable=False) ### Download BERT\n",
    "\n",
    "import official.nlp.bert.tokenization as tokenization\n",
    "vocab_file = bert_layer.resolved_object.vocab_file.asset_path.numpy() \n",
    "do_lower_case = bert_layer.resolved_object.do_lower_case.numpy()  \n",
    "tokenizer = tokenization.FullTokenizer(vocab_file, do_lower_case)\n",
    "# 1. vocab_file: reads the vocab file associated to the downloaded model.\n",
    "# 2. do_lower_case: reads binary variable which if True means tokenizer will reformat all text to lower \n",
    "#    case rendering model to be **NOT** case sensitive. Should be False by default. You can check in a cell below.\n",
    "# 3. tokenizer: builds tokenizer using variables 1 and 2.\n",
    "\n",
    "def encode_names(n, tokenizer):\n",
    "    tokens = list(tokenizer.tokenize(n)) ### Tokenizes the string\n",
    "    tokens.append('[SEP]') ### Add a [SEP] token to the end of each headline\n",
    "    return tokenizer.convert_tokens_to_ids(tokens) ### Returns an array of Token ID's\n",
    "\n",
    "def bert_encode(string_list, tokenizer, max_seq_length):\n",
    "    num_examples = len(string_list)\n",
    "\n",
    "    ### Encodes all the headlines as token ID's\n",
    "    string_tokens = tf.ragged.constant([encode_names(n, tokenizer) for n in np.array(string_list)])\n",
    "\n",
    "    cls = [tokenizer.convert_tokens_to_ids(['[CLS]'])]*string_tokens.shape[0] ### Creates an array of [CLS] token ID's\n",
    "    input_word_ids = tf.concat([cls, string_tokens], axis=-1) ### Appends it to the front of all the headlines\n",
    "\n",
    "    input_mask = tf.ones_like(input_word_ids).to_tensor(shape=(None, max_seq_length)) ### Creating an input mask of 1 and 0's\n",
    "\n",
    "    ### Create and append a 0 to the beginning of the input mask for the [CLS] token \n",
    "    type_cls = tf.zeros_like(cls)\n",
    "    type_tokens = tf.ones_like(string_tokens)\n",
    "    input_type_ids = tf.concat([type_cls, type_tokens], axis=-1).to_tensor(shape=(None, max_seq_length))\n",
    "\n",
    "    ### Puts everything into a dict\n",
    "    inputs = {\n",
    "      'input_word_ids': input_word_ids.to_tensor(shape=(None, max_seq_length)),\n",
    "      'input_mask': input_mask,\n",
    "      'input_type_ids': input_type_ids}\n",
    "\n",
    "    return inputs"
   ]
  },
  {
   "cell_type": "markdown",
   "metadata": {},
   "source": [
    "*Processing our training, testing, and validation sets*"
   ]
  },
  {
   "cell_type": "code",
   "execution_count": 49,
   "metadata": {},
   "outputs": [],
   "source": [
    "X_train = bert_encode(x_train, tokenizer, 151)\n",
    "X_test = bert_encode(x_test, tokenizer, 151)\n",
    "X_val = bert_encode(x_val, tokenizer, 151)"
   ]
  },
  {
   "cell_type": "markdown",
   "metadata": {},
   "source": [
    "### BERT architecture"
   ]
  },
  {
   "cell_type": "code",
   "execution_count": 111,
   "metadata": {},
   "outputs": [],
   "source": [
    "# Dropping out 20% of the embeddings on any given round of training\n",
    "drop_embed = 0.2\n",
    "\n",
    "# CNN Layer Architecture\n",
    "n_conv_1 = n_conv_2 = n_conv_3 = 256\n",
    "\n",
    "# Filter lengths of 4, 5, and 6 words\n",
    "k_conv_1 = 4\n",
    "k_conv_2 = 5\n",
    "k_conv_3 = 6\n",
    "\n",
    "# dense layer architecture: \n",
    "n_dense = 256\n",
    "dropout = 0.2\n",
    "\n",
    "max_seq_length = 151  # we calculated this a couple cells ago\n",
    "\n",
    "input_word_ids = tf.keras.layers.Input(shape=(max_seq_length,), dtype=tf.int32,name=\"input_word_ids\")\n",
    "input_mask = tf.keras.layers.Input(shape=(max_seq_length,), dtype=tf.int32,name=\"input_mask\")\n",
    "segment_ids = tf.keras.layers.Input(shape=(max_seq_length,), dtype=tf.int32, name=\"segment_ids\")\n",
    "\n",
    "pooled_output, sequence_output = bert_layer([input_word_ids, input_mask, segment_ids])\n",
    "\n",
    "# Spatial Dropout 1D\n",
    "drop_embed_layer = tf.keras.layers.SpatialDropout1D(drop_embed, name='drop_embed')(sequence_output)\n",
    "\n",
    "### Three parallel convolutional streams:\n",
    "conv_1 = tf.keras.layers.Conv1D(filters=n_conv_1, kernel_size=k_conv_1, activation='relu', name='conv_1')(drop_embed_layer)\n",
    "maxp_1 = tf.keras.layers.GlobalMaxPooling1D(name='maxp_1')(conv_1)\n",
    "\n",
    "conv_2 = tf.keras.layers.Conv1D(n_conv_2, k_conv_2, activation='relu', name='conv_2')(drop_embed_layer)\n",
    "maxp_2 = tf.keras.layers.GlobalMaxPooling1D(name='maxp_2')(conv_2)\n",
    "\n",
    "conv_3 = tf.keras.layers.Conv1D(n_conv_3, k_conv_3, activation='relu', name='conv_3')(drop_embed_layer)\n",
    "maxp_3 = tf.keras.layers.GlobalMaxPooling1D(name='maxp_3')(conv_3)\n",
    "\n",
    "### Concatenate the activations from three streams:\n",
    "concat = tf.keras.layers.concatenate([maxp_1, maxp_2, maxp_3])\n",
    "\n",
    "dense_layer_1 = tf.keras.layers.Dense(256, activation='relu', name='Dense_1')(concat)\n",
    "dense_layer_dropout_1 = tf.keras.layers.Dropout(rate=0.2, name='Dense_Dropout_1')(dense_layer_1)\n",
    "\n",
    "dense_layer_2 = tf.keras.layers.Dense(64, activation='relu', name='Dense_2')(dense_layer_dropout_1)\n",
    "dense_layer_dropout_2 = tf.keras.layers.Dropout(rate=0.1, name='Dense_Dropout_2')(dense_layer_2)\n",
    "\n",
    "output = tf.keras.layers.Dense(1, activation='sigmoid', name='output')(dense_layer_dropout_2)\n",
    "\n",
    "model = tf.keras.Model(\n",
    "    inputs={\n",
    "        'input_word_ids': input_word_ids,\n",
    "        'input_mask': input_mask,\n",
    "        'input_type_ids': segment_ids\n",
    "        },\n",
    "        outputs=output)"
   ]
  },
  {
   "cell_type": "code",
   "execution_count": 112,
   "metadata": {
    "scrolled": true
   },
   "outputs": [
    {
     "name": "stdout",
     "output_type": "stream",
     "text": [
      "Model: \"model_5\"\n",
      "__________________________________________________________________________________________________\n",
      "Layer (type)                    Output Shape         Param #     Connected to                     \n",
      "==================================================================================================\n",
      "input_word_ids (InputLayer)     [(None, 151)]        0                                            \n",
      "__________________________________________________________________________________________________\n",
      "input_mask (InputLayer)         [(None, 151)]        0                                            \n",
      "__________________________________________________________________________________________________\n",
      "segment_ids (InputLayer)        [(None, 151)]        0                                            \n",
      "__________________________________________________________________________________________________\n",
      "keras_layer (KerasLayer)        [(None, 768), (None, 177853441   input_word_ids[0][0]             \n",
      "                                                                 input_mask[0][0]                 \n",
      "                                                                 segment_ids[0][0]                \n",
      "__________________________________________________________________________________________________\n",
      "drop_embed (SpatialDropout1D)   (None, 151, 768)     0           keras_layer[5][1]                \n",
      "__________________________________________________________________________________________________\n",
      "conv_1 (Conv1D)                 (None, 148, 256)     786688      drop_embed[0][0]                 \n",
      "__________________________________________________________________________________________________\n",
      "conv_2 (Conv1D)                 (None, 147, 256)     983296      drop_embed[0][0]                 \n",
      "__________________________________________________________________________________________________\n",
      "conv_3 (Conv1D)                 (None, 146, 256)     1179904     drop_embed[0][0]                 \n",
      "__________________________________________________________________________________________________\n",
      "maxp_1 (GlobalMaxPooling1D)     (None, 256)          0           conv_1[0][0]                     \n",
      "__________________________________________________________________________________________________\n",
      "maxp_2 (GlobalMaxPooling1D)     (None, 256)          0           conv_2[0][0]                     \n",
      "__________________________________________________________________________________________________\n",
      "maxp_3 (GlobalMaxPooling1D)     (None, 256)          0           conv_3[0][0]                     \n",
      "__________________________________________________________________________________________________\n",
      "concatenate_5 (Concatenate)     (None, 768)          0           maxp_1[0][0]                     \n",
      "                                                                 maxp_2[0][0]                     \n",
      "                                                                 maxp_3[0][0]                     \n",
      "__________________________________________________________________________________________________\n",
      "Dense_1 (Dense)                 (None, 256)          196864      concatenate_5[0][0]              \n",
      "__________________________________________________________________________________________________\n",
      "Dense_Dropout_1 (Dropout)       (None, 256)          0           Dense_1[0][0]                    \n",
      "__________________________________________________________________________________________________\n",
      "Dense_2 (Dense)                 (None, 64)           16448       Dense_Dropout_1[0][0]            \n",
      "__________________________________________________________________________________________________\n",
      "Dense_Dropout_2 (Dropout)       (None, 64)           0           Dense_2[0][0]                    \n",
      "__________________________________________________________________________________________________\n",
      "output (Dense)                  (None, 1)            65          Dense_Dropout_2[0][0]            \n",
      "==================================================================================================\n",
      "Total params: 181,016,706\n",
      "Trainable params: 3,163,265\n",
      "Non-trainable params: 177,853,441\n",
      "__________________________________________________________________________________________________\n"
     ]
    }
   ],
   "source": [
    "model.summary()"
   ]
  },
  {
   "cell_type": "code",
   "execution_count": 30,
   "metadata": {},
   "outputs": [],
   "source": [
    "tf.keras.utils.plot_model(model, show_shapes=True, dpi=100)"
   ]
  },
  {
   "cell_type": "markdown",
   "metadata": {},
   "source": [
    "<img src=\"Sarcasm img.png\">"
   ]
  },
  {
   "cell_type": "markdown",
   "metadata": {},
   "source": [
    "Create a directory with the date"
   ]
  },
  {
   "cell_type": "code",
   "execution_count": 113,
   "metadata": {},
   "outputs": [],
   "source": [
    "now = datetime.now() # current date and time\n",
    "year = now.strftime(\"%Y\")\n",
    "month = now.strftime(\"%m\")\n",
    "day = now.strftime(\"%d\")\n",
    "date = month+day+year\n",
    "\n",
    "### Create an output directory\n",
    "output_dir = '/scratch/dlilenth/model_output/bert_multi_cased_L-12_H-768_A-12_v2_fixed_convs_'+date\n",
    "if not os.path.exists(output_dir): ### If the file directory doesn't already exists,\n",
    "    os.makedirs(output_dir) ### Make it please"
   ]
  },
  {
   "cell_type": "markdown",
   "metadata": {},
   "source": [
    "Compile the model"
   ]
  },
  {
   "cell_type": "code",
   "execution_count": 114,
   "metadata": {},
   "outputs": [],
   "source": [
    "model.compile(optimizer='adam',\n",
    "              loss='binary_crossentropy',\n",
    "              metrics=['accuracy'])"
   ]
  },
  {
   "cell_type": "markdown",
   "metadata": {},
   "source": [
    "**Train!!**"
   ]
  },
  {
   "cell_type": "markdown",
   "metadata": {},
   "source": [
    "I will be implementing early stopping and reducing learning rates as part of the training process"
   ]
  },
  {
   "cell_type": "code",
   "execution_count": 115,
   "metadata": {
    "scrolled": true
   },
   "outputs": [
    {
     "name": "stdout",
     "output_type": "stream",
     "text": [
      "Epoch 1/10\n",
      "1252/1252 [==============================] - 102s 80ms/step - loss: 0.5396 - accuracy: 0.7233 - val_loss: 0.3108 - val_accuracy: 0.8677\n",
      "Epoch 2/10\n",
      "1252/1252 [==============================] - 99s 79ms/step - loss: 0.2831 - accuracy: 0.8807 - val_loss: 0.2883 - val_accuracy: 0.8794\n",
      "Epoch 3/10\n",
      "1252/1252 [==============================] - 99s 79ms/step - loss: 0.2220 - accuracy: 0.9100 - val_loss: 0.2813 - val_accuracy: 0.8897\n",
      "\n",
      "Epoch 00003: ReduceLROnPlateau reducing learning rate to 0.00010000000474974513.\n",
      "Epoch 4/10\n",
      "1252/1252 [==============================] - 99s 79ms/step - loss: 0.1298 - accuracy: 0.9516 - val_loss: 0.2876 - val_accuracy: 0.8962\n",
      "\n",
      "Epoch 00004: ReduceLROnPlateau reducing learning rate to 1.0000000474974514e-05.\n",
      "Epoch 5/10\n",
      "1252/1252 [==============================] - 99s 79ms/step - loss: 0.1017 - accuracy: 0.9605 - val_loss: 0.2936 - val_accuracy: 0.8983\n",
      "\n",
      "Epoch 00005: ReduceLROnPlateau reducing learning rate to 1.0000000656873453e-06.\n",
      "Epoch 6/10\n",
      "1252/1252 [==============================] - 99s 79ms/step - loss: 0.0953 - accuracy: 0.9649 - val_loss: 0.2947 - val_accuracy: 0.8981\n",
      "\n",
      "Epoch 00006: ReduceLROnPlateau reducing learning rate to 1e-06.\n",
      "Epoch 00006: early stopping\n"
     ]
    }
   ],
   "source": [
    "modelcheckpoint = ModelCheckpoint(filepath=output_dir+'/weights.{epoch:02d}.hdf5')\n",
    "\n",
    "early_stopping = EarlyStopping(patience=3, # Stop after 3 epochs of no improvement\n",
    "                               monitor='val_loss', # Look at validation_loss\n",
    "                               min_delta=0, # After 0 change\n",
    "                               mode='min', # Stop when quantity has stopped decreasing\n",
    "                               restore_best_weights=False, # Don't Restore the best weights\n",
    "                               verbose=1) \n",
    "\n",
    "reduce_lr = ReduceLROnPlateau(monitor='val_loss', # Look at validation loss\n",
    "                              min_lr=0.000001, # Lower bound of learning rate\n",
    "                              patience=1, # Reduce after 1 with little change\n",
    "                              mode='min', # Stop when quantity has stopped decreasing\n",
    "                              factor=0.1, # Reduce by a factor of 1/10\n",
    "                              min_delta=0.01, # Minimumn change needed\n",
    "                              verbose=1)\n",
    "\n",
    "history = model.fit(X_train,\n",
    "                    y_train, \n",
    "                    epochs=10,\n",
    "                    batch_size=16,\n",
    "                    validation_data=(X_val, y_val),\n",
    "                    callbacks=[modelcheckpoint, early_stopping, reduce_lr],\n",
    "                    verbose=1)"
   ]
  },
  {
   "cell_type": "code",
   "execution_count": 116,
   "metadata": {},
   "outputs": [],
   "source": [
    "def plot_history(history):\n",
    "    acc = history.history['accuracy']\n",
    "    val_acc = history.history['val_accuracy']\n",
    "    loss = history.history['loss']\n",
    "    val_loss = history.history['val_loss']\n",
    "    x = range(1, len(acc) + 1)\n",
    "\n",
    "    plt.figure(figsize=(12, 5))\n",
    "    plt.subplot(1, 2, 1)\n",
    "    plt.plot(x, acc, 'b', label='Training acc')\n",
    "    plt.plot(x, val_acc, 'r', label='Validation acc')\n",
    "    plt.title('Training and validation accuracy')\n",
    "    plt.legend()\n",
    "    plt.subplot(1, 2, 2)\n",
    "    plt.plot(x, loss, 'b', label='Training loss')\n",
    "    plt.plot(x, val_loss, 'r', label='Validation loss')\n",
    "    plt.title('Training and validation loss')\n",
    "    plt.legend()\n",
    "    print(\"Lowest Validation Loss: epoch {}\".format(np.argmin(val_loss)+1))\n",
    "    print(\"Highest Training Accuracy: epoch {}\".format(np.argmax(val_acc)+1))"
   ]
  },
  {
   "cell_type": "code",
   "execution_count": 117,
   "metadata": {},
   "outputs": [
    {
     "name": "stdout",
     "output_type": "stream",
     "text": [
      "Lowest Validation Loss: epoch 3\n",
      "Highest Training Accuracy: epoch 5\n"
     ]
    },
    {
     "data": {
      "image/png": "[encoded data removed]",
      "text/plain": [
       "<Figure size 864x360 with 2 Axes>"
      ]
     },
     "metadata": {},
     "output_type": "display_data"
    }
   ],
   "source": [
    "plot_history(history)"
   ]
  },
  {
   "cell_type": "markdown",
   "metadata": {},
   "source": [
    "**Load in the model with the best validation accuracy**"
   ]
  },
  {
   "cell_type": "code",
   "execution_count": 136,
   "metadata": {},
   "outputs": [],
   "source": [
    "model.load_weights(output_dir+\"/weights.05.hdf5\") # Load in model weights"
   ]
  },
  {
   "cell_type": "markdown",
   "metadata": {},
   "source": [
    "*Evaluate on the test set*"
   ]
  },
  {
   "cell_type": "code",
   "execution_count": 137,
   "metadata": {},
   "outputs": [],
   "source": [
    "y_test_hat = model.predict(X_test)\n",
    "y_hat = (y_test_hat > 0.5).astype(int).flatten()"
   ]
  },
  {
   "cell_type": "code",
   "execution_count": 163,
   "metadata": {},
   "outputs": [
    {
     "data": {
      "text/plain": [
       "Text(0.5, 1.0, 'Confidence of predictions')"
      ]
     },
     "execution_count": 163,
     "metadata": {},
     "output_type": "execute_result"
    },
    {
     "data": {
      "image/png": "[encoded data removed]",
      "text/plain": [
       "<Figure size 432x288 with 1 Axes>"
      ]
     },
     "metadata": {},
     "output_type": "display_data"
    }
   ],
   "source": [
    "plt.hist(y_test_hat)\n",
    "_ = plt.axvline(x=0.5, color='orange') ### Fitting the traditional .5 accuracy threshold is\n",
    "plt.title('Confidence of predictions');"
   ]
  },
  {
   "cell_type": "markdown",
   "metadata": {},
   "source": [
    "Our model has more *Not Sarcastic* (**0**) predictions than *Sarcastic* (**1**). This is reflective of the dataset containing slightly more *Not Sarcastic* examples. "
   ]
  },
  {
   "cell_type": "code",
   "execution_count": 139,
   "metadata": {},
   "outputs": [
    {
     "name": "stdout",
     "output_type": "stream",
     "text": [
      "               precision    recall  f1-score   support\n",
      "\n",
      "Not Sarcastic       0.91      0.89      0.90      1499\n",
      "    Sarcastic       0.88      0.90      0.89      1364\n",
      "\n",
      "     accuracy                           0.90      2863\n",
      "    macro avg       0.90      0.90      0.90      2863\n",
      " weighted avg       0.90      0.90      0.90      2863\n",
      "\n"
     ]
    }
   ],
   "source": [
    "print(classification_report(y_test, y_hat, target_names=['Not Sarcastic', 'Sarcastic']))"
   ]
  },
  {
   "cell_type": "markdown",
   "metadata": {},
   "source": [
    "We achieved a 90% accuracy on the results"
   ]
  },
  {
   "cell_type": "markdown",
   "metadata": {},
   "source": [
    "*Confusion Matrix*"
   ]
  },
  {
   "cell_type": "code",
   "execution_count": 140,
   "metadata": {},
   "outputs": [
    {
     "data": {
      "image/png": "[encoded data removed]",
      "text/plain": [
       "<Figure size 432x288 with 1 Axes>"
      ]
     },
     "metadata": {},
     "output_type": "display_data"
    }
   ],
   "source": [
    "matrix = confusion_matrix(y_test, y_hat)\n",
    "sns.heatmap(matrix, square=True, annot=True, fmt='d', cbar=False,\n",
    "            xticklabels=['False','True'], yticklabels=['False','True'])\n",
    "plt.title('Predicted')\n",
    "plt.ylabel('Actual');"
   ]
  },
  {
   "cell_type": "markdown",
   "metadata": {},
   "source": [
    "**Taking a look at which observations we got wrong**"
   ]
  },
  {
   "cell_type": "code",
   "execution_count": 141,
   "metadata": {},
   "outputs": [
    {
     "name": "stdout",
     "output_type": "stream",
     "text": [
      "There are 292 oberservations we guessed incorrectly\n"
     ]
    }
   ],
   "source": [
    "print('There are {} oberservations we guessed incorrectly'.format(x_test[(y_test != y_hat)].shape[0]))"
   ]
  },
  {
   "cell_type": "markdown",
   "metadata": {},
   "source": [
    "Observations that were predicted **True** *(y_hat = 1)* but actually **False** *(y_test = 0)*"
   ]
  },
  {
   "cell_type": "markdown",
   "metadata": {},
   "source": [
    "*Printing the first 10 examples*"
   ]
  },
  {
   "cell_type": "code",
   "execution_count": 145,
   "metadata": {},
   "outputs": [
    {
     "name": "stdout",
     "output_type": "stream",
     "text": [
      "astronomers discover most distant galaxy yet\n",
      "nyc removes statue honoring 19th century surgeon who experimented on female slaves\n",
      "rnc proclaims mike pence the winner more than an hour before the debate\n",
      "christianity's hijacked brand\n",
      "pre-holiday jerry brown preps for term 4\n",
      "ohio moves to ban abortion after 6 weeks of pregnancy\n",
      "hillary accuses china of trying to 'hack in everything that doesn't move'\n",
      "facebook built censorship tool to appease china expansion\n",
      "dad opens up about the tough conversation sparked by water guns\n",
      "mom gives excuse for son's absence that even hermione would accept\n"
     ]
    }
   ],
   "source": [
    "[print(example) for example in x_test[(y_test == 0)&(y_hat == 1)][:10]];"
   ]
  },
  {
   "cell_type": "markdown",
   "metadata": {},
   "source": [
    "We can see here that some of the examples the model guessed incorrectly sound like they could actually be a real headline."
   ]
  },
  {
   "cell_type": "markdown",
   "metadata": {},
   "source": [
    "*Printing the first 10 examples*"
   ]
  },
  {
   "cell_type": "markdown",
   "metadata": {},
   "source": [
    "Observations that were predicted **False** *(y_hat = 0)* but actually **True** *(y_test = 1)*"
   ]
  },
  {
   "cell_type": "code",
   "execution_count": 146,
   "metadata": {},
   "outputs": [
    {
     "name": "stdout",
     "output_type": "stream",
     "text": [
      "billy joel has billy joel's disease\n",
      "swiss threaten ricola embargo\n",
      "senate subcommittee on energy and water development more like a family\n",
      "pursued drunk driver crafts brilliant 'don't stop' plan\n",
      "polka fan on a real harold loeffelmacher kick lately\n",
      "new ed mcmahon autobiography reveals he slept with 7 women\n",
      "trump accidentally fires off 'boring mike pence' tweet during vp speech before he can stop himself\n",
      "tiny dog suffocates in louis vuitton bag\n",
      "trump confirms all violent options on the table in venezuela\n",
      "hotshot test pilot removes helmet, reveals female status\n"
     ]
    }
   ],
   "source": [
    "[print(example) for example in x_test[(y_test == 1)&(y_hat == 0)][:10]];"
   ]
  },
  {
   "cell_type": "markdown",
   "metadata": {},
   "source": [
    "Some of the examples the model guessed incorrectly here do seem like they could be fake headlines, but are actually real. "
   ]
  },
  {
   "cell_type": "markdown",
   "metadata": {},
   "source": [
    "**Create a function to make predictions yourself**"
   ]
  },
  {
   "cell_type": "code",
   "execution_count": 156,
   "metadata": {},
   "outputs": [
    {
     "name": "stdout",
     "output_type": "stream",
     "text": [
      "Model predicted: Not Sarcastic\n"
     ]
    }
   ],
   "source": [
    "sentence = \"Trump, at US-Mexican border, slams Biden for ‘open, really dangerous’ border\".lower()\n",
    "# Pulled from fox news\n",
    "prediction = model.predict(bert_encode([remove_punctuations(sentence)], tokenizer, 151))\n",
    "print(\"Model predicted: {}\".format(\"Sarcastic\" if (prediction[0][0] > 0.5).astype(int).flatten() == 1 else \"Not Sarcastic\"))"
   ]
  },
  {
   "cell_type": "code",
   "execution_count": 157,
   "metadata": {},
   "outputs": [
    {
     "name": "stdout",
     "output_type": "stream",
     "text": [
      "Model predicted: Not Sarcastic\n"
     ]
    }
   ],
   "source": [
    "sentence = \"Frenchwoman who killed abusive husband faints in court as prosecutors seek sentence that could see her walk free\".lower()\n",
    "### Pulled from CNN\n",
    "prediction = model.predict(bert_encode([remove_punctuations(sentence)], tokenizer, 151))\n",
    "print(\"Model predicted: {}\".format(\"Sarcastic\" if (prediction[0][0] > 0.5).astype(int).flatten() == 1 else \"Not Sarcastic\"))"
   ]
  },
  {
   "cell_type": "code",
   "execution_count": 158,
   "metadata": {},
   "outputs": [
    {
     "name": "stdout",
     "output_type": "stream",
     "text": [
      "Model predicted: Not Sarcastic\n"
     ]
    }
   ],
   "source": [
    "sentence = \"Donald Trump Reportedly Wanted Military To 'Beat The F**k' Out Of George Floyd Protesters\".lower()\n",
    "### Pulled from huffington post\n",
    "prediction = model.predict(bert_encode([remove_punctuations(sentence)], tokenizer, 151))\n",
    "print(\"Model predicted: {}\".format(\"Sarcastic\" if (prediction[0][0] > 0.5).astype(int).flatten() == 1 else \"Not Sarcastic\"))"
   ]
  },
  {
   "cell_type": "code",
   "execution_count": 159,
   "metadata": {},
   "outputs": [
    {
     "name": "stdout",
     "output_type": "stream",
     "text": [
      "Model predicted: Sarcastic\n"
     ]
    }
   ],
   "source": [
    "sentence = \"Infrastructure Talks Come To Halt After Giant Sinkhole Swallows Capitol Building\".lower()\n",
    "### Pulled from the Onion.com\n",
    "prediction = model.predict(bert_encode([remove_punctuations(sentence)], tokenizer, 151))\n",
    "print(\"Model predicted: {}\".format(\"Sarcastic\" if (prediction[0][0] > 0.5).astype(int).flatten() == 1 else \"Not Sarcastic\"))"
   ]
  },
  {
   "cell_type": "code",
   "execution_count": 160,
   "metadata": {},
   "outputs": [
    {
     "name": "stdout",
     "output_type": "stream",
     "text": [
      "Model predicted: Not Sarcastic\n"
     ]
    }
   ],
   "source": [
    "sentence = \"Around 750 graves found at a Canada residential school\".lower()\n",
    "### Pulled from the bbc.com\n",
    "prediction = model.predict(bert_encode([remove_punctuations(sentence)], tokenizer, 151))\n",
    "print(\"Model predicted: {}\".format(\"Sarcastic\" if (prediction[0][0] > 0.5).astype(int).flatten() == 1 else \"Not Sarcastic\"))"
   ]
  },
  {
   "cell_type": "code",
   "execution_count": 161,
   "metadata": {},
   "outputs": [
    {
     "name": "stdout",
     "output_type": "stream",
     "text": [
      "Model predicted: Sarcastic\n"
     ]
    }
   ],
   "source": [
    "sentence = \"Chicago Cubs Launch Charitable Initiative To Give Back To Overserved Communities\".lower()\n",
    "### Pulled from the Onion.com\n",
    "prediction = model.predict(bert_encode([remove_punctuations(sentence)], tokenizer, 151))\n",
    "print(\"Model predicted: {}\".format(\"Sarcastic\" if (prediction[0][0] > 0.5).astype(int).flatten() == 1 else \"Not Sarcastic\"))"
   ]
  },
  {
   "cell_type": "code",
   "execution_count": 162,
   "metadata": {},
   "outputs": [
    {
     "name": "stdout",
     "output_type": "stream",
     "text": [
      "Model predicted: Not Sarcastic\n"
     ]
    }
   ],
   "source": [
    "sentence = \"I’m A Bisexual Woman. I’m Also A Christian. Here’s How I Came To Accept Myself.\".lower()\n",
    "### Pulled from huffington post\n",
    "prediction = model.predict(bert_encode([remove_punctuations(sentence)], tokenizer, 151))\n",
    "print(\"Model predicted: {}\".format(\"Sarcastic\" if (prediction[0][0] > 0.5).astype(int).flatten() == 1 else \"Not Sarcastic\"))"
   ]
  },
  {
   "cell_type": "markdown",
   "metadata": {},
   "source": [
    "## Conclusion"
   ]
  },
  {
   "cell_type": "markdown",
   "metadata": {},
   "source": [
    "Compared to the baseline model using Naive Bayes, we were able to achieve a 7% accuracy increase by using a sophisticated deep learning model using **BERT** as the embedding layer. While 7% may be a substaintial increase, i also had to use very expensive equipment to train such a massive model compared to the **Naive Bayes** implementation. "
   ]
  }
 ],
 "metadata": {
  "kernelspec": {
   "display_name": "Python 3",
   "language": "python",
   "name": "python3"
  },
  "language_info": {
   "codemirror_mode": {
    "name": "ipython",
    "version": 3
   },
   "file_extension": ".py",
   "mimetype": "text/x-python",
   "name": "python",
   "nbconvert_exporter": "python",
   "pygments_lexer": "ipython3",
   "version": "3.7.6"
  }
 },
 "nbformat": 4,
 "nbformat_minor": 4
}
